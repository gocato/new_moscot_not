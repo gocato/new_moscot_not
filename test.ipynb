{
 "cells": [
  {
   "cell_type": "markdown",
   "metadata": {},
   "source": []
  },
  {
   "cell_type": "code",
   "execution_count": 3,
   "metadata": {},
   "outputs": [
    {
     "name": "stdout",
     "output_type": "stream",
     "text": [
      "The autoreload extension is already loaded. To reload it, use:\n",
      "  %reload_ext autoreload\n"
     ]
    }
   ],
   "source": [
    "%load_ext autoreload\n",
    "%autoreload 2"
   ]
  },
  {
   "cell_type": "code",
   "execution_count": 2,
   "metadata": {},
   "outputs": [],
   "source": [
    "from moscot.problems.generic import ConditionalNeuralProblem\n",
    "from moscot.problems.time import TemporalNeuralProblem"
   ]
  },
  {
   "cell_type": "code",
   "execution_count": 4,
   "metadata": {},
   "outputs": [],
   "source": [
    "from moscot.datasets import simulate_data"
   ]
  },
  {
   "cell_type": "code",
   "execution_count": 5,
   "metadata": {},
   "outputs": [
    {
     "name": "stderr",
     "output_type": "stream",
     "text": [
      "/Users/dominik.klein/git_repos/moscot_not/src/moscot/datasets/_datasets.py:251: FutureWarning: X.dtype being converted to np.float32 from float64. In the next version of anndata (0.9) conversion will not be automatic. Pass dtype explicitly to avoid this warning. Pass `AnnData(X, dtype=X.dtype, ...)` to get the future behavour.\n",
      "  AnnData(\n",
      "/Users/dominik.klein/opt/anaconda3/envs/moscot_not/lib/python3.9/site-packages/anndata/_core/anndata.py:1785: FutureWarning: X.dtype being converted to np.float32 from float64. In the next version of anndata (0.9) conversion will not be automatic. Pass dtype explicitly to avoid this warning. Pass `AnnData(X, dtype=X.dtype, ...)` to get the future behavour.\n",
      "  [AnnData(sparse.csr_matrix(a.shape), obs=a.obs) for a in all_adatas],\n"
     ]
    }
   ],
   "source": [
    "adata = simulate_data(key=\"time\")\n"
   ]
  },
  {
   "cell_type": "code",
   "execution_count": 6,
   "metadata": {},
   "outputs": [
    {
     "data": {
      "text/plain": [
       "False"
      ]
     },
     "execution_count": 6,
     "metadata": {},
     "output_type": "execute_result"
    }
   ],
   "source": [
    "1 in adata.obs[\"time\"].values"
   ]
  },
  {
   "cell_type": "code",
   "execution_count": 7,
   "metadata": {},
   "outputs": [],
   "source": [
    "import scanpy as sc\n",
    "sc.pp.pca(adata)"
   ]
  },
  {
   "cell_type": "code",
   "execution_count": 8,
   "metadata": {},
   "outputs": [],
   "source": [
    "tnp = TemporalNeuralProblem(adata)"
   ]
  },
  {
   "cell_type": "code",
   "execution_count": 9,
   "metadata": {},
   "outputs": [
    {
     "name": "stdout",
     "output_type": "stream",
     "text": [
      "\u001b[34mINFO    \u001b[0m Computing pca with `\u001b[33mn_comps\u001b[0m=\u001b[1;36m30\u001b[0m` for `xy` using `adata.X`                                                  \n"
     ]
    }
   ],
   "source": [
    "tnp = tnp.prepare(\"time\")"
   ]
  },
  {
   "cell_type": "code",
   "execution_count": 10,
   "metadata": {},
   "outputs": [
    {
     "name": "stdout",
     "output_type": "stream",
     "text": [
      "\u001b[34mINFO    \u001b[0m Solving problem BirthDeathNeuralProblem\u001b[1m[\u001b[0m\u001b[33mstage\u001b[0m=\u001b[32m'prepared'\u001b[0m, \u001b[33mshape\u001b[0m=\u001b[1m(\u001b[0m\u001b[1;36m20\u001b[0m, \u001b[1;36m20\u001b[0m\u001b[1m)\u001b[0m\u001b[1m]\u001b[0m.                                \n"
     ]
    },
    {
     "data": {
      "application/vnd.jupyter.widget-view+json": {
       "model_id": "75986a7e29414c78b632c3cd5d9e5f89",
       "version_major": 2,
       "version_minor": 0
      },
      "text/plain": [
       "  0%|          | 0/10 [00:00<?, ?it/s]"
      ]
     },
     "metadata": {},
     "output_type": "display_data"
    }
   ],
   "source": [
    "tnp = tnp.solve(iterations=10)"
   ]
  },
  {
   "cell_type": "code",
   "execution_count": 14,
   "metadata": {},
   "outputs": [],
   "source": [
    "data={\"pretrain_logs\": \"loss\"}"
   ]
  },
  {
   "cell_type": "code",
   "execution_count": 17,
   "metadata": {},
   "outputs": [
    {
     "data": {
      "text/plain": [
       "('pretrain_logs', 'loss')"
      ]
     },
     "execution_count": 17,
     "metadata": {},
     "output_type": "execute_result"
    }
   ],
   "source": [
    "next(iter(data.items()))"
   ]
  },
  {
   "cell_type": "code",
   "execution_count": 48,
   "metadata": {},
   "outputs": [
    {
     "name": "stderr",
     "output_type": "stream",
     "text": [
      "[autoreload of moscot.backends.ott._output failed: Traceback (most recent call last):\n",
      "  File \"/Users/dominik.klein/opt/anaconda3/envs/moscot_not/lib/python3.9/site-packages/IPython/extensions/autoreload.py\", line 257, in check\n",
      "    superreload(m, reload, self.old_objects)\n",
      "  File \"/Users/dominik.klein/opt/anaconda3/envs/moscot_not/lib/python3.9/site-packages/IPython/extensions/autoreload.py\", line 480, in superreload\n",
      "    update_generic(old_obj, new_obj)\n",
      "  File \"/Users/dominik.klein/opt/anaconda3/envs/moscot_not/lib/python3.9/site-packages/IPython/extensions/autoreload.py\", line 377, in update_generic\n",
      "    update(a, b)\n",
      "  File \"/Users/dominik.klein/opt/anaconda3/envs/moscot_not/lib/python3.9/site-packages/IPython/extensions/autoreload.py\", line 345, in update_class\n",
      "    update_instances(old, new)\n",
      "  File \"/Users/dominik.klein/opt/anaconda3/envs/moscot_not/lib/python3.9/site-packages/IPython/extensions/autoreload.py\", line 303, in update_instances\n",
      "    ref.__class__ = new\n",
      "TypeError: __class__ assignment: 'NeuralOutput' object layout differs from 'NeuralOutput'\n",
      "]\n"
     ]
    },
    {
     "data": {
      "text/plain": [
       "defaultdict(list,\n",
       "            {'loss_g': [DeviceArray(-26.633759, dtype=float32),\n",
       "              DeviceArray(-24.71133, dtype=float32)],\n",
       "             'penalty': [DeviceArray(0.00729817, dtype=float32),\n",
       "              DeviceArray(0.00067315, dtype=float32)],\n",
       "             'loss': [DeviceArray(-54.485977, dtype=float32),\n",
       "              DeviceArray(-50.35383, dtype=float32)],\n",
       "             'loss_f': [DeviceArray(0.34080178, dtype=float32),\n",
       "              DeviceArray(-0.23887543, dtype=float32)],\n",
       "             'w_dist': [DeviceArray(0.0171814, dtype=float32),\n",
       "              DeviceArray(8.691309, dtype=float32)]})"
      ]
     },
     "execution_count": 48,
     "metadata": {},
     "output_type": "execute_result"
    }
   ],
   "source": [
    "tnp[\"0\", \"1\"].solution.training_logs[\"train_logs\"]"
   ]
  },
  {
   "cell_type": "code",
   "execution_count": 39,
   "metadata": {},
   "outputs": [
    {
     "data": {
      "text/plain": [
       "3.0209579467773438"
      ]
     },
     "execution_count": 39,
     "metadata": {},
     "output_type": "execute_result"
    }
   ],
   "source": [
    "tnp[\"0\", \"1\"].solution.cost"
   ]
  },
  {
   "cell_type": "code",
   "execution_count": 6,
   "metadata": {},
   "outputs": [],
   "source": [
    "cnp = ConditionalNeuralProblem(adata)"
   ]
  },
  {
   "cell_type": "code",
   "execution_count": 7,
   "metadata": {},
   "outputs": [
    {
     "data": {
      "text/plain": [
       "'linear'"
      ]
     },
     "execution_count": 7,
     "metadata": {},
     "output_type": "execute_result"
    }
   ],
   "source": [
    "ConditionalNeuralProblem._problem_kind"
   ]
  },
  {
   "cell_type": "code",
   "execution_count": 8,
   "metadata": {},
   "outputs": [
    {
     "data": {
      "text/plain": [
       "'unknown'"
      ]
     },
     "execution_count": 8,
     "metadata": {},
     "output_type": "execute_result"
    }
   ],
   "source": [
    "cnp._problem_kind"
   ]
  },
  {
   "cell_type": "code",
   "execution_count": 9,
   "metadata": {},
   "outputs": [],
   "source": [
    "cnp = cnp.prepare(key=\"batch\", joint_attr=\"X_pca\", cond_dim=1)"
   ]
  },
  {
   "cell_type": "code",
   "execution_count": 10,
   "metadata": {},
   "outputs": [
    {
     "data": {
      "text/plain": [
       "(20, 39)"
      ]
     },
     "execution_count": 10,
     "metadata": {},
     "output_type": "execute_result"
    }
   ],
   "source": [
    "cnp._distributions[\"0\"][0].data_src.shape\n"
   ]
  },
  {
   "cell_type": "code",
   "execution_count": 11,
   "metadata": {},
   "outputs": [
    {
     "data": {
      "text/plain": [
       "<moscot.problems.generic._generic.ConditionalNeuralProblem at 0x7f80740d9fa0>"
      ]
     },
     "execution_count": 11,
     "metadata": {},
     "output_type": "execute_result"
    }
   ],
   "source": [
    "cnp"
   ]
  },
  {
   "cell_type": "code",
   "execution_count": 12,
   "metadata": {},
   "outputs": [
    {
     "ename": "AttributeError",
     "evalue": "'NoneType' object has no attribute '_valid_sampler'",
     "output_type": "error",
     "traceback": [
      "\u001b[0;31m---------------------------------------------------------------------------\u001b[0m",
      "\u001b[0;31mAttributeError\u001b[0m                            Traceback (most recent call last)",
      "\u001b[1;32m/Users/dominik.klein/git_repos/moscot_not/test.ipynb Cell 13\u001b[0m in \u001b[0;36m<cell line: 1>\u001b[0;34m()\u001b[0m\n\u001b[0;32m----> <a href='vscode-notebook-cell:/Users/dominik.klein/git_repos/moscot_not/test.ipynb#ch0000024?line=0'>1</a>\u001b[0m cnp\u001b[39m.\u001b[39;49m_solver\u001b[39m.\u001b[39;49m_valid_sampler\u001b[39m.\u001b[39mdistributions[\u001b[39m0\u001b[39m]\u001b[39m.\u001b[39mshape\n",
      "\u001b[0;31mAttributeError\u001b[0m: 'NoneType' object has no attribute '_valid_sampler'"
     ]
    }
   ],
   "source": [
    "cnp._solver._valid_sampler.distributions[0].shape"
   ]
  },
  {
   "cell_type": "code",
   "execution_count": 32,
   "metadata": {},
   "outputs": [
    {
     "data": {
      "text/plain": [
       "['__call__',\n",
       " '__class__',\n",
       " '__delattr__',\n",
       " '__dict__',\n",
       " '__dir__',\n",
       " '__doc__',\n",
       " '__eq__',\n",
       " '__format__',\n",
       " '__ge__',\n",
       " '__getattribute__',\n",
       " '__gt__',\n",
       " '__hash__',\n",
       " '__init__',\n",
       " '__init_subclass__',\n",
       " '__le__',\n",
       " '__lt__',\n",
       " '__module__',\n",
       " '__ne__',\n",
       " '__new__',\n",
       " '__reduce__',\n",
       " '__reduce_ex__',\n",
       " '__repr__',\n",
       " '__setattr__',\n",
       " '__sizeof__',\n",
       " '__str__',\n",
       " '__subclasshook__',\n",
       " '__weakref__',\n",
       " 'batch_size',\n",
       " 'best_model_metric',\n",
       " 'beta',\n",
       " 'clip_weights_icnn',\n",
       " 'cond_dim',\n",
       " 'epsilon',\n",
       " 'get_eval_step',\n",
       " 'get_train_step',\n",
       " 'inner_iters',\n",
       " 'input_dim',\n",
       " 'iterations',\n",
       " 'key',\n",
       " 'log_freq',\n",
       " 'optimizer_f_kwargs',\n",
       " 'optimizer_g_kwargs',\n",
       " 'patience',\n",
       " 'penalize_weights_icnn',\n",
       " 'pos_weights',\n",
       " 'pretrain_identity',\n",
       " 'pretrain_iters',\n",
       " 'pretrain_scale',\n",
       " 'setup',\n",
       " 'state_f',\n",
       " 'state_g',\n",
       " 'tau_a',\n",
       " 'tau_b',\n",
       " 'to_dual_potentials',\n",
       " 'train_neuraldual',\n",
       " 'train_step_f',\n",
       " 'train_step_g',\n",
       " 'valid_freq',\n",
       " 'valid_sinkhorn_kwargs',\n",
       " 'valid_step']"
      ]
     },
     "execution_count": 32,
     "metadata": {},
     "output_type": "execute_result"
    }
   ],
   "source": [
    "dir(cnp._solver._solver)"
   ]
  },
  {
   "cell_type": "code",
   "execution_count": 13,
   "metadata": {},
   "outputs": [
    {
     "name": "stdout",
     "output_type": "stream",
     "text": [
      "combinare output dim is  1\n"
     ]
    },
    {
     "ename": "TypeError",
     "evalue": "mul got incompatible shapes for broadcasting: (38,), (64,).",
     "output_type": "error",
     "traceback": [
      "\u001b[0;31m---------------------------------------------------------------------------\u001b[0m",
      "\u001b[0;31mTypeError\u001b[0m                                 Traceback (most recent call last)",
      "\u001b[1;32m/Users/dominik.klein/git_repos/moscot_not/test.ipynb Cell 15\u001b[0m in \u001b[0;36m<cell line: 1>\u001b[0;34m()\u001b[0m\n\u001b[0;32m----> <a href='vscode-notebook-cell:/Users/dominik.klein/git_repos/moscot_not/test.ipynb#ch0000012?line=0'>1</a>\u001b[0m cnp \u001b[39m=\u001b[39m cnp\u001b[39m.\u001b[39;49msolve(batch_size\u001b[39m=\u001b[39;49m\u001b[39m8\u001b[39;49m, iterations\u001b[39m=\u001b[39;49m\u001b[39m10\u001b[39;49m,\n\u001b[1;32m      <a href='vscode-notebook-cell:/Users/dominik.klein/git_repos/moscot_not/test.ipynb#ch0000012?line=1'>2</a>\u001b[0m )\n",
      "File \u001b[0;32m~/git_repos/moscot_not/src/moscot/problems/generic/_generic.py:631\u001b[0m, in \u001b[0;36mConditionalNeuralProblem.solve\u001b[0;34m(self, batch_size, tau_a, tau_b, epsilon, seed, pos_weights, dim_hidden, beta, best_model_metric, iterations, inner_iters, valid_freq, log_freq, patience, optimizer_f_kwargs, optimizer_g_kwargs, pretrain_iters, pretrain_scale, combiner_kwargs, valid_sinkhorn_kwargs, train_size, **kwargs)\u001b[0m\n\u001b[1;32m    602\u001b[0m \u001b[39m@d\u001b[39m\u001b[39m.\u001b[39mdedent\n\u001b[1;32m    603\u001b[0m \u001b[39mdef\u001b[39;00m \u001b[39msolve\u001b[39m(\n\u001b[1;32m    604\u001b[0m     \u001b[39mself\u001b[39m,\n\u001b[0;32m   (...)\u001b[0m\n\u001b[1;32m    628\u001b[0m     \u001b[39m*\u001b[39m\u001b[39m*\u001b[39mkwargs: Any,\n\u001b[1;32m    629\u001b[0m ) \u001b[39m-\u001b[39m\u001b[39m>\u001b[39m \u001b[39m\"\u001b[39m\u001b[39mConditionalNeuralProblem[K, B]\u001b[39m\u001b[39m\"\u001b[39m:\n\u001b[1;32m    630\u001b[0m     \u001b[39m\"\"\"Solve.\"\"\"\u001b[39;00m\n\u001b[0;32m--> 631\u001b[0m     \u001b[39mreturn\u001b[39;00m \u001b[39msuper\u001b[39;49m()\u001b[39m.\u001b[39;49msolve(\n\u001b[1;32m    632\u001b[0m         batch_size\u001b[39m=\u001b[39;49mbatch_size,\n\u001b[1;32m    633\u001b[0m         tau_a\u001b[39m=\u001b[39;49mtau_a,\n\u001b[1;32m    634\u001b[0m         tau_b\u001b[39m=\u001b[39;49mtau_b,\n\u001b[1;32m    635\u001b[0m         epsilon\u001b[39m=\u001b[39;49mepsilon,\n\u001b[1;32m    636\u001b[0m         seed\u001b[39m=\u001b[39;49mseed,\n\u001b[1;32m    637\u001b[0m         pos_weights\u001b[39m=\u001b[39;49mpos_weights,\n\u001b[1;32m    638\u001b[0m         dim_hidden\u001b[39m=\u001b[39;49mdim_hidden,\n\u001b[1;32m    639\u001b[0m         beta\u001b[39m=\u001b[39;49mbeta,\n\u001b[1;32m    640\u001b[0m         best_model_metric\u001b[39m=\u001b[39;49mbest_model_metric,\n\u001b[1;32m    641\u001b[0m         iterations\u001b[39m=\u001b[39;49miterations,\n\u001b[1;32m    642\u001b[0m         inner_iters\u001b[39m=\u001b[39;49minner_iters,\n\u001b[1;32m    643\u001b[0m         valid_freq\u001b[39m=\u001b[39;49mvalid_freq,\n\u001b[1;32m    644\u001b[0m         log_freq\u001b[39m=\u001b[39;49mlog_freq,\n\u001b[1;32m    645\u001b[0m         patience\u001b[39m=\u001b[39;49mpatience,\n\u001b[1;32m    646\u001b[0m         optimizer_f_kwargs\u001b[39m=\u001b[39;49moptimizer_f_kwargs,\n\u001b[1;32m    647\u001b[0m         optimizer_g_kwargs\u001b[39m=\u001b[39;49moptimizer_g_kwargs,\n\u001b[1;32m    648\u001b[0m         pretrain_iters\u001b[39m=\u001b[39;49mpretrain_iters,\n\u001b[1;32m    649\u001b[0m         pretrain_scale\u001b[39m=\u001b[39;49mpretrain_scale,\n\u001b[1;32m    650\u001b[0m         combiner_kwargs\u001b[39m=\u001b[39;49mcombiner_kwargs,\n\u001b[1;32m    651\u001b[0m         valid_sinkhorn_kwargs\u001b[39m=\u001b[39;49mvalid_sinkhorn_kwargs,\n\u001b[1;32m    652\u001b[0m         train_size\u001b[39m=\u001b[39;49mtrain_size,\n\u001b[1;32m    653\u001b[0m         \u001b[39m*\u001b[39;49m\u001b[39m*\u001b[39;49mkwargs,\n\u001b[1;32m    654\u001b[0m     )\n",
      "File \u001b[0;32m~/git_repos/moscot_not/src/moscot/problems/_utils.py:64\u001b[0m, in \u001b[0;36mwrap_solve\u001b[0;34m(wrapped, instance, args, kwargs)\u001b[0m\n\u001b[1;32m     60\u001b[0m \u001b[39mif\u001b[39;00m instance\u001b[39m.\u001b[39mstage \u001b[39mnot\u001b[39;00m \u001b[39min\u001b[39;00m (ProblemStage\u001b[39m.\u001b[39mPREPARED, ProblemStage\u001b[39m.\u001b[39mSOLVED):\n\u001b[1;32m     61\u001b[0m     \u001b[39mraise\u001b[39;00m \u001b[39mRuntimeError\u001b[39;00m(\n\u001b[1;32m     62\u001b[0m         \u001b[39mf\u001b[39m\u001b[39m\"\u001b[39m\u001b[39mExpected problem\u001b[39m\u001b[39m'\u001b[39m\u001b[39ms stage to be either `\u001b[39m\u001b[39m'\u001b[39m\u001b[39mprepared\u001b[39m\u001b[39m'\u001b[39m\u001b[39m` or `\u001b[39m\u001b[39m'\u001b[39m\u001b[39msolved\u001b[39m\u001b[39m'\u001b[39m\u001b[39m`, found `\u001b[39m\u001b[39m{\u001b[39;00minstance\u001b[39m.\u001b[39mstage\u001b[39m!r}\u001b[39;00m\u001b[39m`.\u001b[39m\u001b[39m\"\u001b[39m\n\u001b[1;32m     63\u001b[0m     )\n\u001b[0;32m---> 64\u001b[0m instance \u001b[39m=\u001b[39m wrapped(\u001b[39m*\u001b[39;49margs, \u001b[39m*\u001b[39;49m\u001b[39m*\u001b[39;49mkwargs)\n\u001b[1;32m     65\u001b[0m instance\u001b[39m.\u001b[39m_stage \u001b[39m=\u001b[39m ProblemStage\u001b[39m.\u001b[39mSOLVED\n\u001b[1;32m     66\u001b[0m \u001b[39mreturn\u001b[39;00m instance\n",
      "File \u001b[0;32m~/git_repos/moscot_not/src/moscot/problems/base/_base_problem.py:807\u001b[0m, in \u001b[0;36mCondOTProblem.solve\u001b[0;34m(self, backend, device, **kwargs)\u001b[0m\n\u001b[1;32m    781\u001b[0m \u001b[39m@wrap_solve\u001b[39m\n\u001b[1;32m    782\u001b[0m \u001b[39mdef\u001b[39;00m \u001b[39msolve\u001b[39m(\n\u001b[1;32m    783\u001b[0m     \u001b[39mself\u001b[39m,\n\u001b[0;32m   (...)\u001b[0m\n\u001b[1;32m    786\u001b[0m     \u001b[39m*\u001b[39m\u001b[39m*\u001b[39mkwargs: Any,\n\u001b[1;32m    787\u001b[0m ) \u001b[39m-\u001b[39m\u001b[39m>\u001b[39m \u001b[39m\"\u001b[39m\u001b[39mCondOTProblem\u001b[39m\u001b[39m\"\u001b[39m:\n\u001b[1;32m    788\u001b[0m     \u001b[39m\"\"\"Solve optimal transport problem.\u001b[39;00m\n\u001b[1;32m    789\u001b[0m \n\u001b[1;32m    790\u001b[0m \u001b[39m    Parameters\u001b[39;00m\n\u001b[0;32m   (...)\u001b[0m\n\u001b[1;32m    804\u001b[0m \u001b[39m    - :attr:`solution`: optimal transport solution.\u001b[39;00m\n\u001b[1;32m    805\u001b[0m \u001b[39m    \"\"\"\u001b[39;00m\n\u001b[0;32m--> 807\u001b[0m     \u001b[39mself\u001b[39m\u001b[39m.\u001b[39m_solver \u001b[39m=\u001b[39m \u001b[39mself\u001b[39;49m\u001b[39m.\u001b[39;49m_problem_kind\u001b[39m.\u001b[39;49msolver(\n\u001b[1;32m    808\u001b[0m         backend\u001b[39m=\u001b[39;49mbackend,\n\u001b[1;32m    809\u001b[0m         neural\u001b[39m=\u001b[39;49m\u001b[39m\"\u001b[39;49m\u001b[39mcond\u001b[39;49m\u001b[39m\"\u001b[39;49m,\n\u001b[1;32m    810\u001b[0m         distributions\u001b[39m=\u001b[39;49m\u001b[39mself\u001b[39;49m\u001b[39m.\u001b[39;49m_distributions,\n\u001b[1;32m    811\u001b[0m         sample_pairs\u001b[39m=\u001b[39;49m\u001b[39mself\u001b[39;49m\u001b[39m.\u001b[39;49m_sample_pairs,\n\u001b[1;32m    812\u001b[0m         cond_dim\u001b[39m=\u001b[39;49m\u001b[39mself\u001b[39;49m\u001b[39m.\u001b[39;49m_cond_dim,\n\u001b[1;32m    813\u001b[0m         input_dim\u001b[39m=\u001b[39;49m\u001b[39mlist\u001b[39;49m(\u001b[39mself\u001b[39;49m\u001b[39m.\u001b[39;49m_distributions\u001b[39m.\u001b[39;49mvalues())[\u001b[39m0\u001b[39;49m][\u001b[39m0\u001b[39;49m]\u001b[39m.\u001b[39;49mdata_src\u001b[39m.\u001b[39;49mshape[\u001b[39m1\u001b[39;49m],\n\u001b[1;32m    814\u001b[0m         \u001b[39m*\u001b[39;49m\u001b[39m*\u001b[39;49mkwargs,\n\u001b[1;32m    815\u001b[0m     )\n\u001b[1;32m    817\u001b[0m     \u001b[39mself\u001b[39m\u001b[39m.\u001b[39m_solution \u001b[39m=\u001b[39m \u001b[39mself\u001b[39m\u001b[39m.\u001b[39m_solver(  \u001b[39m# type: ignore[misc]\u001b[39;00m\n\u001b[1;32m    818\u001b[0m         xy\u001b[39m=\u001b[39m\u001b[39mself\u001b[39m\u001b[39m.\u001b[39m_distributions,\n\u001b[1;32m    819\u001b[0m         sample_pairs\u001b[39m=\u001b[39m\u001b[39mself\u001b[39m\u001b[39m.\u001b[39m_sample_pairs,\n\u001b[1;32m    820\u001b[0m         device\u001b[39m=\u001b[39mdevice,\n\u001b[1;32m    821\u001b[0m         \u001b[39m*\u001b[39m\u001b[39m*\u001b[39mkwargs,\n\u001b[1;32m    822\u001b[0m     )\n\u001b[1;32m    824\u001b[0m     \u001b[39mreturn\u001b[39;00m \u001b[39mself\u001b[39m\n",
      "File \u001b[0;32m~/git_repos/moscot_not/src/moscot/solvers/_base_solver.py:58\u001b[0m, in \u001b[0;36mProblemKind.solver\u001b[0;34m(self, backend, neural, **kwargs)\u001b[0m\n\u001b[1;32m     56\u001b[0m \u001b[39mif\u001b[39;00m neural:\n\u001b[1;32m     57\u001b[0m     \u001b[39mif\u001b[39;00m neural \u001b[39m==\u001b[39m \u001b[39m\"\u001b[39m\u001b[39mcond\u001b[39m\u001b[39m\"\u001b[39m:\n\u001b[0;32m---> 58\u001b[0m         \u001b[39mreturn\u001b[39;00m CondNeuralSolver(\u001b[39m*\u001b[39;49m\u001b[39m*\u001b[39;49mkwargs)\n\u001b[1;32m     59\u001b[0m     \u001b[39mreturn\u001b[39;00m NeuralSolver(\u001b[39m*\u001b[39m\u001b[39m*\u001b[39mkwargs)\n\u001b[1;32m     60\u001b[0m \u001b[39mreturn\u001b[39;00m SinkhornSolver(\u001b[39m*\u001b[39m\u001b[39m*\u001b[39mkwargs)\n",
      "File \u001b[0;32m~/git_repos/moscot_not/src/moscot/backends/ott/_solver.py:383\u001b[0m, in \u001b[0;36mNeuralSolver.__init__\u001b[0;34m(self, **kwargs)\u001b[0m\n\u001b[1;32m    381\u001b[0m \u001b[39mself\u001b[39m\u001b[39m.\u001b[39m_valid_sampler: Optional[JaxSampler] \u001b[39m=\u001b[39m \u001b[39mNone\u001b[39;00m\n\u001b[1;32m    382\u001b[0m kwargs \u001b[39m=\u001b[39m _filter_kwargs(NeuralDualSolver, \u001b[39m*\u001b[39m\u001b[39m*\u001b[39mkwargs)\n\u001b[0;32m--> 383\u001b[0m \u001b[39mself\u001b[39m\u001b[39m.\u001b[39m_solver \u001b[39m=\u001b[39m NeuralDualSolver(\u001b[39m*\u001b[39;49m\u001b[39m*\u001b[39;49mkwargs)\n",
      "File \u001b[0;32m~/git_repos/moscot_not/src/moscot/backends/ott/_neuraldual.py:168\u001b[0m, in \u001b[0;36mNeuralDualSolver.__init__\u001b[0;34m(self, input_dim, cond_dim, batch_size, tau_a, tau_b, epsilon, seed, pos_weights, dim_hidden, beta, best_model_metric, iterations, inner_iters, valid_freq, log_freq, patience, optimizer_f_kwargs, optimizer_g_kwargs, pretrain_iters, pretrain_scale, combiner_kwargs, valid_sinkhorn_kwargs)\u001b[0m\n\u001b[1;32m    166\u001b[0m key, \u001b[39mself\u001b[39m\u001b[39m.\u001b[39mkey \u001b[39m=\u001b[39m jax\u001b[39m.\u001b[39mrandom\u001b[39m.\u001b[39msplit(\u001b[39mself\u001b[39m\u001b[39m.\u001b[39mkey, \u001b[39m2\u001b[39m)\n\u001b[1;32m    167\u001b[0m \u001b[39m# set optimizer and networks\u001b[39;00m\n\u001b[0;32m--> 168\u001b[0m \u001b[39mself\u001b[39;49m\u001b[39m.\u001b[39;49msetup(key, neural_f, neural_g, optimizer_f, optimizer_g)\n",
      "File \u001b[0;32m~/git_repos/moscot_not/src/moscot/backends/ott/_neuraldual.py:187\u001b[0m, in \u001b[0;36mNeuralDualSolver.setup\u001b[0;34m(self, key, neural_f, neural_g, optimizer_f, optimizer_g)\u001b[0m\n\u001b[1;32m    184\u001b[0m     neural_g\u001b[39m.\u001b[39mpos_weights \u001b[39m=\u001b[39m \u001b[39mself\u001b[39m\u001b[39m.\u001b[39mpos_weights\n\u001b[1;32m    185\u001b[0m     neural_f\u001b[39m.\u001b[39mpos_weights \u001b[39m=\u001b[39m \u001b[39mself\u001b[39m\u001b[39m.\u001b[39mpos_weights\n\u001b[0;32m--> 187\u001b[0m \u001b[39mself\u001b[39m\u001b[39m.\u001b[39mstate_f \u001b[39m=\u001b[39m neural_f\u001b[39m.\u001b[39;49mcreate_train_state(key_f, optimizer_f, \u001b[39mself\u001b[39;49m\u001b[39m.\u001b[39;49minput_dim)\n\u001b[1;32m    188\u001b[0m \u001b[39mself\u001b[39m\u001b[39m.\u001b[39mstate_g \u001b[39m=\u001b[39m neural_g\u001b[39m.\u001b[39mcreate_train_state(key_g, optimizer_g, \u001b[39mself\u001b[39m\u001b[39m.\u001b[39minput_dim)\n\u001b[1;32m    190\u001b[0m \u001b[39mself\u001b[39m\u001b[39m.\u001b[39mtrain_step_f \u001b[39m=\u001b[39m \u001b[39mself\u001b[39m\u001b[39m.\u001b[39mget_train_step(to_optimize\u001b[39m=\u001b[39m\u001b[39m\"\u001b[39m\u001b[39mf\u001b[39m\u001b[39m\"\u001b[39m)\n",
      "File \u001b[0;32m~/opt/anaconda3/envs/moscot_not/lib/python3.9/site-packages/flax/linen/module.py:402\u001b[0m, in \u001b[0;36mwrap_method_once.<locals>.wrapped_module_method\u001b[0;34m(*args, **kwargs)\u001b[0m\n\u001b[1;32m    400\u001b[0m \u001b[39mif\u001b[39;00m args \u001b[39mand\u001b[39;00m \u001b[39misinstance\u001b[39m(args[\u001b[39m0\u001b[39m], Module):\n\u001b[1;32m    401\u001b[0m   \u001b[39mself\u001b[39m, args \u001b[39m=\u001b[39m args[\u001b[39m0\u001b[39m], args[\u001b[39m1\u001b[39m:]\n\u001b[0;32m--> 402\u001b[0m   \u001b[39mreturn\u001b[39;00m \u001b[39mself\u001b[39;49m\u001b[39m.\u001b[39;49m_call_wrapped_method(fun, args, kwargs)\n\u001b[1;32m    403\u001b[0m \u001b[39melse\u001b[39;00m:\n\u001b[1;32m    404\u001b[0m   \u001b[39mreturn\u001b[39;00m fun(\u001b[39m*\u001b[39margs, \u001b[39m*\u001b[39m\u001b[39m*\u001b[39mkwargs)\n",
      "File \u001b[0;32m~/opt/anaconda3/envs/moscot_not/lib/python3.9/site-packages/flax/linen/module.py:705\u001b[0m, in \u001b[0;36mModule._call_wrapped_method\u001b[0;34m(self, fun, args, kwargs)\u001b[0m\n\u001b[1;32m    703\u001b[0m \u001b[39mif\u001b[39;00m _use_named_call:\n\u001b[1;32m    704\u001b[0m   \u001b[39mwith\u001b[39;00m jax\u001b[39m.\u001b[39mnamed_scope(_derive_profiling_name(\u001b[39mself\u001b[39m, fun)):\n\u001b[0;32m--> 705\u001b[0m     y \u001b[39m=\u001b[39m fun(\u001b[39mself\u001b[39;49m, \u001b[39m*\u001b[39;49margs, \u001b[39m*\u001b[39;49m\u001b[39m*\u001b[39;49mkwargs)\n\u001b[1;32m    706\u001b[0m \u001b[39melse\u001b[39;00m:\n\u001b[1;32m    707\u001b[0m   y \u001b[39m=\u001b[39m fun(\u001b[39mself\u001b[39m, \u001b[39m*\u001b[39margs, \u001b[39m*\u001b[39m\u001b[39m*\u001b[39mkwargs)\n",
      "File \u001b[0;32m~/git_repos/moscot_not/src/moscot/backends/ott/_icnn.py:184\u001b[0m, in \u001b[0;36mICNN.create_train_state\u001b[0;34m(self, rng, optimizer, input_shape)\u001b[0m\n\u001b[1;32m    177\u001b[0m \u001b[39mdef\u001b[39;00m \u001b[39mcreate_train_state\u001b[39m(\n\u001b[1;32m    178\u001b[0m     \u001b[39mself\u001b[39m,\n\u001b[1;32m    179\u001b[0m     rng: jnp\u001b[39m.\u001b[39mndarray,\n\u001b[1;32m    180\u001b[0m     optimizer: optax\u001b[39m.\u001b[39mOptState,\n\u001b[1;32m    181\u001b[0m     input_shape: Union[\u001b[39mint\u001b[39m, Tuple[\u001b[39mint\u001b[39m, \u001b[39m.\u001b[39m\u001b[39m.\u001b[39m\u001b[39m.\u001b[39m]],\n\u001b[1;32m    182\u001b[0m ) \u001b[39m-\u001b[39m\u001b[39m>\u001b[39m train_state\u001b[39m.\u001b[39mTrainState:\n\u001b[1;32m    183\u001b[0m     \u001b[39m\"\"\"Create initial `TrainState`.\"\"\"\u001b[39;00m\n\u001b[0;32m--> 184\u001b[0m     params \u001b[39m=\u001b[39m \u001b[39mself\u001b[39;49m\u001b[39m.\u001b[39;49minit(rng, jnp\u001b[39m.\u001b[39;49mones(input_shape))[\u001b[39m\"\u001b[39m\u001b[39mparams\u001b[39m\u001b[39m\"\u001b[39m]\n\u001b[1;32m    185\u001b[0m     \u001b[39mreturn\u001b[39;00m train_state\u001b[39m.\u001b[39mTrainState\u001b[39m.\u001b[39mcreate(apply_fn\u001b[39m=\u001b[39m\u001b[39mself\u001b[39m\u001b[39m.\u001b[39mapply, params\u001b[39m=\u001b[39mparams, tx\u001b[39m=\u001b[39moptimizer)\n",
      "    \u001b[0;31m[... skipping hidden 9 frame]\u001b[0m\n",
      "File \u001b[0;32m~/git_repos/moscot_not/src/moscot/backends/ott/_icnn.py:149\u001b[0m, in \u001b[0;36mICNN.__call__\u001b[0;34m(self, x)\u001b[0m\n\u001b[1;32m    147\u001b[0m \u001b[39m# Initialize\u001b[39;00m\n\u001b[1;32m    148\u001b[0m mlp_condition_embedding \u001b[39m=\u001b[39m \u001b[39mself\u001b[39m\u001b[39m.\u001b[39mw_xu[\u001b[39m0\u001b[39m](c)\n\u001b[0;32m--> 149\u001b[0m x_hadamard_1 \u001b[39m=\u001b[39m jnp\u001b[39m.\u001b[39;49mmultiply(x, mlp_condition_embedding)\n\u001b[1;32m    150\u001b[0m mlp_condition \u001b[39m=\u001b[39m \u001b[39mself\u001b[39m\u001b[39m.\u001b[39mw_u[\u001b[39m0\u001b[39m](c)\n\u001b[1;32m    151\u001b[0m z \u001b[39m=\u001b[39m jnp\u001b[39m.\u001b[39madd(mlp_condition, \u001b[39mself\u001b[39m\u001b[39m.\u001b[39mw_xs[\u001b[39m0\u001b[39m](x_hadamard_1))\n",
      "    \u001b[0;31m[... skipping hidden 14 frame]\u001b[0m\n",
      "File \u001b[0;32m~/git_repos/jax/jax/_src/numpy/ufuncs.py:84\u001b[0m, in \u001b[0;36m_maybe_bool_binop.<locals>.fn\u001b[0;34m(x1, x2)\u001b[0m\n\u001b[1;32m     82\u001b[0m \u001b[39mdef\u001b[39;00m \u001b[39mfn\u001b[39m(x1, x2):\n\u001b[1;32m     83\u001b[0m   x1, x2 \u001b[39m=\u001b[39m _promote_args(numpy_fn\u001b[39m.\u001b[39m\u001b[39m__name__\u001b[39m, x1, x2)\n\u001b[0;32m---> 84\u001b[0m   \u001b[39mreturn\u001b[39;00m lax_fn(x1, x2) \u001b[39mif\u001b[39;00m x1\u001b[39m.\u001b[39mdtype \u001b[39m!=\u001b[39m np\u001b[39m.\u001b[39mbool_ \u001b[39melse\u001b[39;00m bool_lax_fn(x1, x2)\n",
      "    \u001b[0;31m[... skipping hidden 7 frame]\u001b[0m\n",
      "File \u001b[0;32m~/git_repos/jax/jax/_src/lax/lax.py:1573\u001b[0m, in \u001b[0;36mbroadcasting_shape_rule\u001b[0;34m(name, *avals)\u001b[0m\n\u001b[1;32m   1571\u001b[0m       result_shape\u001b[39m.\u001b[39mappend(non_1s[\u001b[39m0\u001b[39m])\n\u001b[1;32m   1572\u001b[0m     \u001b[39melse\u001b[39;00m:\n\u001b[0;32m-> 1573\u001b[0m       \u001b[39mraise\u001b[39;00m \u001b[39mTypeError\u001b[39;00m(\u001b[39mf\u001b[39m\u001b[39m'\u001b[39m\u001b[39m{\u001b[39;00mname\u001b[39m}\u001b[39;00m\u001b[39m got incompatible shapes for broadcasting: \u001b[39m\u001b[39m'\u001b[39m\n\u001b[1;32m   1574\u001b[0m                       \u001b[39mf\u001b[39m\u001b[39m'\u001b[39m\u001b[39m{\u001b[39;00m\u001b[39m\"\u001b[39m\u001b[39m, \u001b[39m\u001b[39m\"\u001b[39m\u001b[39m.\u001b[39mjoin(\u001b[39mmap\u001b[39m(\u001b[39mstr\u001b[39m, \u001b[39mmap\u001b[39m(\u001b[39mtuple\u001b[39m, shapes)))\u001b[39m}\u001b[39;00m\u001b[39m.\u001b[39m\u001b[39m'\u001b[39m)\n\u001b[1;32m   1576\u001b[0m \u001b[39mreturn\u001b[39;00m \u001b[39mtuple\u001b[39m(result_shape)\n",
      "\u001b[0;31mTypeError\u001b[0m: mul got incompatible shapes for broadcasting: (38,), (64,)."
     ]
    }
   ],
   "source": [
    "cnp = cnp.solve(batch_size=8, iterations=10,\n",
    ")"
   ]
  },
  {
   "cell_type": "code",
   "execution_count": 14,
   "metadata": {},
   "outputs": [
    {
     "data": {
      "text/plain": [
       "NeuralOutput[predicted_cost=2.821, best_loss=84.15, sink_dist=80.481]"
      ]
     },
     "execution_count": 14,
     "metadata": {},
     "output_type": "execute_result"
    }
   ],
   "source": [
    "np[\"0\",\"1\"].solution"
   ]
  },
  {
   "cell_type": "code",
   "execution_count": 5,
   "metadata": {},
   "outputs": [],
   "source": [
    "from moscot.problems.time import TemporalNeuralProblem"
   ]
  },
  {
   "cell_type": "code",
   "execution_count": 6,
   "metadata": {},
   "outputs": [],
   "source": [
    "tnp = TemporalNeuralProblem(adata)"
   ]
  },
  {
   "cell_type": "code",
   "execution_count": 7,
   "metadata": {},
   "outputs": [
    {
     "data": {
      "text/plain": [
       "AnnData object with n_obs × n_vars = 40 × 60\n",
       "    obs: 'time', 'celltype'"
      ]
     },
     "execution_count": 7,
     "metadata": {},
     "output_type": "execute_result"
    }
   ],
   "source": [
    "adata"
   ]
  },
  {
   "cell_type": "code",
   "execution_count": 11,
   "metadata": {},
   "outputs": [
    {
     "name": "stdout",
     "output_type": "stream",
     "text": [
      "\u001b[34mINFO    \u001b[0m Computing pca with `\u001b[33mn_comps\u001b[0m=\u001b[1;36m30\u001b[0m` for `xy` using `adata.X`                                                  \n"
     ]
    }
   ],
   "source": [
    "tnp = tnp.prepare(time_key=\"time\")"
   ]
  },
  {
   "cell_type": "code",
   "execution_count": 12,
   "metadata": {},
   "outputs": [
    {
     "name": "stdout",
     "output_type": "stream",
     "text": [
      "\u001b[34mINFO    \u001b[0m Solving problem BirthDeathNeuralProblem\u001b[1m[\u001b[0m\u001b[33mstage\u001b[0m=\u001b[32m'prepared'\u001b[0m, \u001b[33mshape\u001b[0m=\u001b[1m(\u001b[0m\u001b[1;36m20\u001b[0m, \u001b[1;36m20\u001b[0m\u001b[1m)\u001b[0m\u001b[1m]\u001b[0m.                                \n"
     ]
    },
    {
     "data": {
      "application/vnd.jupyter.widget-view+json": {
       "model_id": "fe2abaffe5664ea598cd17e313b33bef",
       "version_major": 2,
       "version_minor": 0
      },
      "text/plain": [
       "  0%|          | 0/10 [00:00<?, ?it/s]"
      ]
     },
     "metadata": {},
     "output_type": "display_data"
    }
   ],
   "source": [
    "tnp = tnp.solve(batch_size=8, iterations=10, valid_sinkhorn_kwargs={\"tau_a\": 1.0, \"tau_b\": 1.0}\n",
    ")"
   ]
  },
  {
   "cell_type": "code",
   "execution_count": 13,
   "metadata": {},
   "outputs": [
    {
     "ename": "KeyError",
     "evalue": "(0, 1)",
     "output_type": "error",
     "traceback": [
      "\u001b[0;31m---------------------------------------------------------------------------\u001b[0m",
      "\u001b[0;31mKeyError\u001b[0m                                  Traceback (most recent call last)",
      "\u001b[1;32m/Users/dominik.klein/git_repos/moscot_not/test.ipynb Cell 16\u001b[0m in \u001b[0;36m<cell line: 1>\u001b[0;34m()\u001b[0m\n\u001b[0;32m----> <a href='vscode-notebook-cell:/Users/dominik.klein/git_repos/moscot_not/test.ipynb#ch0000023?line=0'>1</a>\u001b[0m tnp[\u001b[39m0\u001b[39;49m,\u001b[39m1\u001b[39;49m]\u001b[39m.\u001b[39msolution\n",
      "File \u001b[0;32m~/git_repos/moscot_not/src/moscot/problems/base/_compound_problem.py:533\u001b[0m, in \u001b[0;36mBaseCompoundProblem.__getitem__\u001b[0;34m(self, item)\u001b[0m\n\u001b[1;32m    532\u001b[0m \u001b[39mdef\u001b[39;00m \u001b[39m__getitem__\u001b[39m(\u001b[39mself\u001b[39m, item: Tuple[K, K]) \u001b[39m-\u001b[39m\u001b[39m>\u001b[39m B:\n\u001b[0;32m--> 533\u001b[0m     \u001b[39mreturn\u001b[39;00m \u001b[39mself\u001b[39;49m\u001b[39m.\u001b[39;49mproblems[item]\n",
      "\u001b[0;31mKeyError\u001b[0m: (0, 1)"
     ]
    }
   ],
   "source": [
    "tnp[0,1].solution"
   ]
  },
  {
   "cell_type": "code",
   "execution_count": 14,
   "metadata": {},
   "outputs": [
    {
     "data": {
      "text/plain": [
       "TemporalNeuralProblem[('0', '1')]"
      ]
     },
     "execution_count": 14,
     "metadata": {},
     "output_type": "execute_result"
    }
   ],
   "source": [
    "tnp"
   ]
  },
  {
   "cell_type": "code",
   "execution_count": 15,
   "metadata": {},
   "outputs": [
    {
     "data": {
      "text/plain": [
       "AnnData object with n_obs × n_vars = 40 × 60\n",
       "    obs: 'time', 'celltype'"
      ]
     },
     "execution_count": 15,
     "metadata": {},
     "output_type": "execute_result"
    }
   ],
   "source": [
    "adata"
   ]
  },
  {
   "cell_type": "code",
   "execution_count": 16,
   "metadata": {},
   "outputs": [
    {
     "data": {
      "text/plain": [
       "0-0     0\n",
       "1-0     0\n",
       "2-0     0\n",
       "3-0     0\n",
       "4-0     0\n",
       "5-0     0\n",
       "6-0     0\n",
       "7-0     0\n",
       "8-0     0\n",
       "9-0     0\n",
       "10-0    0\n",
       "11-0    0\n",
       "12-0    0\n",
       "13-0    0\n",
       "14-0    0\n",
       "15-0    0\n",
       "16-0    0\n",
       "17-0    0\n",
       "18-0    0\n",
       "19-0    0\n",
       "0-1     1\n",
       "1-1     1\n",
       "2-1     1\n",
       "3-1     1\n",
       "4-1     1\n",
       "5-1     1\n",
       "6-1     1\n",
       "7-1     1\n",
       "8-1     1\n",
       "9-1     1\n",
       "10-1    1\n",
       "11-1    1\n",
       "12-1    1\n",
       "13-1    1\n",
       "14-1    1\n",
       "15-1    1\n",
       "16-1    1\n",
       "17-1    1\n",
       "18-1    1\n",
       "19-1    1\n",
       "Name: time, dtype: category\n",
       "Categories (2, object): ['0', '1']"
      ]
     },
     "execution_count": 16,
     "metadata": {},
     "output_type": "execute_result"
    }
   ],
   "source": [
    "adata.obs[\"time\"]"
   ]
  },
  {
   "cell_type": "code",
   "execution_count": null,
   "metadata": {},
   "outputs": [],
   "source": []
  }
 ],
 "metadata": {
  "kernelspec": {
   "display_name": "Python 3.9.13 ('moscot_not')",
   "language": "python",
   "name": "python3"
  },
  "language_info": {
   "codemirror_mode": {
    "name": "ipython",
    "version": 3
   },
   "file_extension": ".py",
   "mimetype": "text/x-python",
   "name": "python",
   "nbconvert_exporter": "python",
   "pygments_lexer": "ipython3",
   "version": "3.9.13"
  },
  "orig_nbformat": 4,
  "vscode": {
   "interpreter": {
    "hash": "a56e8cdf4e348592901a1dd2b13c4bf91710a6b5bcba157af516c5692ccdc3cc"
   }
  }
 },
 "nbformat": 4,
 "nbformat_minor": 2
}
